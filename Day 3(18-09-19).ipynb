{
 "cells": [
  {
   "cell_type": "code",
   "execution_count": 31,
   "metadata": {},
   "outputs": [
    {
     "name": "stdout",
     "output_type": "stream",
     "text": [
      "shraddha\n",
      "Vasa\n",
      "<class 'str'>\n",
      "<class 'str'>\n"
     ]
    }
   ],
   "source": [
    "s = 'shraddha'\n",
    "s1 ='Vasa'\n",
    "print(s)\n",
    "print(s1)\n",
    "print(type(s))\n",
    "print(type(s1))"
   ]
  },
  {
   "cell_type": "code",
   "execution_count": 3,
   "metadata": {},
   "outputs": [
    {
     "name": "stdout",
     "output_type": "stream",
     "text": [
      "p\n",
      "y\n",
      "6\n",
      "n\n",
      "n\n",
      "o\n"
     ]
    }
   ],
   "source": [
    "s='python'\n",
    "print(s[0])\n",
    "print(s[1])\n",
    "print(len(s))\n",
    "print(s[len(s)-1])\n",
    "print(s[-1])\n",
    "print(s[-2])"
   ]
  },
  {
   "cell_type": "code",
   "execution_count": 5,
   "metadata": {},
   "outputs": [
    {
     "name": "stdout",
     "output_type": "stream",
     "text": [
      "py\n",
      "on\n",
      "hon\n",
      "tho\n",
      "ytho\n"
     ]
    }
   ],
   "source": [
    "print(s[0:2])\n",
    "print(s[-2:])\n",
    "print(s[3:])\n",
    "print(s[2:5])\n",
    "print(s[1:-1])"
   ]
  },
  {
   "cell_type": "code",
   "execution_count": 6,
   "metadata": {},
   "outputs": [
    {
     "data": {
      "text/plain": [
       "'n'"
      ]
     },
     "execution_count": 6,
     "metadata": {},
     "output_type": "execute_result"
    }
   ],
   "source": [
    "s[-1::1]"
   ]
  },
  {
   "cell_type": "code",
   "execution_count": 7,
   "metadata": {},
   "outputs": [
    {
     "data": {
      "text/plain": [
       "'on'"
      ]
     },
     "execution_count": 7,
     "metadata": {},
     "output_type": "execute_result"
    }
   ],
   "source": [
    "s[-2::1]"
   ]
  },
  {
   "cell_type": "code",
   "execution_count": 8,
   "metadata": {},
   "outputs": [
    {
     "data": {
      "text/plain": [
       "'pto'"
      ]
     },
     "execution_count": 8,
     "metadata": {},
     "output_type": "execute_result"
    }
   ],
   "source": [
    "s[::2]"
   ]
  },
  {
   "cell_type": "code",
   "execution_count": 9,
   "metadata": {},
   "outputs": [
    {
     "data": {
      "text/plain": [
       "'hon'"
      ]
     },
     "execution_count": 9,
     "metadata": {},
     "output_type": "execute_result"
    }
   ],
   "source": [
    "s[3::]"
   ]
  },
  {
   "cell_type": "markdown",
   "metadata": {},
   "source": [
    "# Function with String Operations"
   ]
  },
  {
   "cell_type": "code",
   "execution_count": 10,
   "metadata": {},
   "outputs": [
    {
     "data": {
      "text/plain": [
       "'arhs'"
      ]
     },
     "execution_count": 10,
     "metadata": {},
     "output_type": "execute_result"
    }
   ],
   "source": [
    "def reverse(s):\n",
    "    return s[3::-1]\n",
    "reverse('shraddha')"
   ]
  },
  {
   "cell_type": "code",
   "execution_count": 18,
   "metadata": {},
   "outputs": [
    {
     "name": "stdout",
     "output_type": "stream",
     "text": [
      "False\n",
      "True\n"
     ]
    }
   ],
   "source": [
    "def palindrome(s):\n",
    "    if s==s[-1::-1]:\n",
    "        return True\n",
    "    return False\n",
    "print(palindrome('Shraddha'))\n",
    "print(palindrome('ganag'))"
   ]
  },
  {
   "cell_type": "code",
   "execution_count": 30,
   "metadata": {},
   "outputs": [
    {
     "name": "stdout",
     "output_type": "stream",
     "text": [
      "S h D d h a None\n"
     ]
    }
   ],
   "source": [
    "def uppercase(s):\n",
    "    for i in range(len(s)):\n",
    "        if ord(s[i])>=68 and ord(s[i])<=109:\n",
    "            print(s[i],end=' ')\n",
    "    return\n",
    "print(uppercase('ShrADdha'))    "
   ]
  },
  {
   "cell_type": "code",
   "execution_count": 21,
   "metadata": {},
   "outputs": [
    {
     "data": {
      "text/plain": [
       "85"
      ]
     },
     "execution_count": 21,
     "metadata": {},
     "output_type": "execute_result"
    }
   ],
   "source": [
    "ord('U')"
   ]
  },
  {
   "cell_type": "code",
   "execution_count": 33,
   "metadata": {},
   "outputs": [
    {
     "data": {
      "text/plain": [
       "'programming'"
      ]
     },
     "execution_count": 33,
     "metadata": {},
     "output_type": "execute_result"
    }
   ],
   "source": [
    "def find(s):\n",
    "    cntUpper=0\n",
    "    cntLower=0\n",
    "    for i in range(len(s)):\n",
    "        if ord(s[i])>=68 and ord(s[i])<=109:\n",
    "            cntUpper+=i\n",
    "        elif ord(s[i])>=90 and ord(s[i])<=122: \n",
    "            cntLower+=i\n",
    "    if  cntUpper==cntLower:\n",
    "        return \"SameCount\"\n",
    "    return\"programming\"\n",
    "find('PyTHon')"
   ]
  },
  {
   "cell_type": "code",
   "execution_count": 35,
   "metadata": {},
   "outputs": [
    {
     "name": "stdout",
     "output_type": "stream",
     "text": [
      "harry12po09tt34er\n",
      "1 2 0 9 3 4 None\n"
     ]
    }
   ],
   "source": [
    "def exactly(s):\n",
    "    for i in range (len(s)):\n",
    "        if ord(s[i])>=48 and ord(s[i])<=89:\n",
    "            print(s[i],end=' ')\n",
    "    return\n",
    "s=input()\n",
    "print(exactly(s))"
   ]
  },
  {
   "cell_type": "code",
   "execution_count": 53,
   "metadata": {},
   "outputs": [
    {
     "name": "stdout",
     "output_type": "stream",
     "text": [
      "harry12po09tt34er\n",
      "1 2 0 9 3 4 19\n"
     ]
    }
   ],
   "source": [
    "def exactly(s):\n",
    "    sum=0\n",
    "    for i in range (len(s)):\n",
    "        if ord(s[i])>=48 and ord(s[i])<=89:\n",
    "            sum =sum+(ord(s[i])-48)\n",
    "            print(s[i],end=' ')\n",
    "    return sum\n",
    "s=input()\n",
    "print(exactly(s))"
   ]
  },
  {
   "cell_type": "code",
   "execution_count": 68,
   "metadata": {},
   "outputs": [
    {
     "name": "stdout",
     "output_type": "stream",
     "text": [
      "python is very easy\n",
      "None\n"
     ]
    }
   ],
   "source": [
    "def wordupper(s):\n",
    "    cntSpace=0\n",
    "    for i in range (len(s)):\n",
    "        if ord(s[i]) == 32:\n",
    "            cntSpace += 1\n",
    "        if cntSpace == 1:\n",
    "            if ord(s[i])>=67 and ord(s[i])<=87:\n",
    "                print(s[i],end ='')\n",
    "            elif ord(s[i])>=96 and ord(s[i])<=122: \n",
    "                print(chr(ord(s[i])-32),end='')\n",
    "        if cntSpace == 2:\n",
    "            break                      \n",
    "    return\n",
    "s=input()\n",
    "print(wordupper(s))"
   ]
  },
  {
   "cell_type": "code",
   "execution_count": 71,
   "metadata": {},
   "outputs": [
    {
     "name": "stdout",
     "output_type": "stream",
     "text": [
      "[12, 34, 56, 87, 93]\n",
      "12\n",
      "34\n",
      "56\n",
      "93\n",
      "87\n",
      "[87, 93]\n",
      "[12, 34, 56]\n",
      "[87, 93]\n"
     ]
    }
   ],
   "source": [
    "li=[12,34,56,87,93]\n",
    "print(li)\n",
    "print(li[0])\n",
    "print(li[1])\n",
    "print(li[2])\n",
    "print(li[-1])\n",
    "print(li[-2])\n",
    "print(li[3:])\n",
    "print(li[:-2])\n",
    "print(li[-2:])"
   ]
  },
  {
   "cell_type": "code",
   "execution_count": 72,
   "metadata": {},
   "outputs": [
    {
     "name": "stdout",
     "output_type": "stream",
     "text": [
      "[12, 'shraddha', 56, 'vizag', 93, 'Rajahmundry']\n"
     ]
    }
   ],
   "source": [
    "li=[12,'shraddha',56,'vizag',93,'Rajahmundry']\n",
    "print(li)"
   ]
  },
  {
   "cell_type": "code",
   "execution_count": 77,
   "metadata": {},
   "outputs": [
    {
     "name": "stdout",
     "output_type": "stream",
     "text": [
      "[12, 34, 56, 87, 93]\n",
      "[12, 34, 56, 87, 93, 12, 34, 56, 87, 93]\n",
      "True\n",
      "5\n",
      "False\n",
      "12 34 56 87 93 \n",
      "12 34 56 87 93 "
     ]
    }
   ],
   "source": [
    "li=[12,34,56,87,93]\n",
    "print(li)\n",
    "print(li*2)\n",
    "print(56 in li)\n",
    "print(len(li))\n",
    "print(9 in li)\n",
    "for i in range(len(li)):\n",
    "    print(li[i], end=' ')\n",
    "print()\n",
    "for i in li:\n",
    "    print(i,end=' ')\n",
    "    "
   ]
  },
  {
   "cell_type": "code",
   "execution_count": 5,
   "metadata": {},
   "outputs": [
    {
     "name": "stdout",
     "output_type": "stream",
     "text": [
      "[12, 34, 56, 87, 93]\n",
      "93\n",
      "12\n",
      "282\n",
      "56\n"
     ]
    }
   ],
   "source": [
    "li=[12,34,56,87,93]\n",
    "print(li)\n",
    "print(max(li))\n",
    "print(min(li))\n",
    "print(sum(li))\n",
    "print(sum(li)//len(li))"
   ]
  },
  {
   "cell_type": "code",
   "execution_count": 27,
   "metadata": {},
   "outputs": [
    {
     "data": {
      "text/plain": [
       "7"
      ]
     },
     "execution_count": 27,
     "metadata": {},
     "output_type": "execute_result"
    }
   ],
   "source": [
    "li=[98,61,12,23,38,76]\n",
    "li.append(76)\n",
    "li.insert(9,78)\n",
    "li.count(9)\n",
    "li.index(78)"
   ]
  },
  {
   "cell_type": "code",
   "execution_count": 31,
   "metadata": {},
   "outputs": [],
   "source": [
    "li= [3, 4, 5, 20, 5, 25, 1, 3]\n",
    "li.pop()\n",
    "li.sort()"
   ]
  },
  {
   "cell_type": "code",
   "execution_count": 32,
   "metadata": {},
   "outputs": [
    {
     "name": "stdout",
     "output_type": "stream",
     "text": [
      "[2, 33, 222, 14]\n"
     ]
    }
   ],
   "source": [
    "li=[2, 33, 222, 14, 25]\n",
    "print( li[:-1])\n",
    "    "
   ]
  },
  {
   "cell_type": "code",
   "execution_count": 21,
   "metadata": {},
   "outputs": [
    {
     "name": "stdout",
     "output_type": "stream",
     "text": [
      "87\n",
      "76\n"
     ]
    }
   ],
   "source": [
    "def large(li):\n",
    "    li.sort()\n",
    "    return li[-1]\n",
    "def genericlarge(li,n):\n",
    "    li.sort()\n",
    "    return li[-n]\n",
    "li=[98,61,12,23,38,76]\n",
    "print(large(li))\n",
    "print(genericlarge(li,3))"
   ]
  },
  {
   "cell_type": "code",
   "execution_count": null,
   "metadata": {},
   "outputs": [],
   "source": [
    "def large(li):\n",
    "    li.sort()\n",
    "    return li[0]\n",
    "def genericleastlarge(li,n):\n",
    "    li.sort()\n",
    "    return li[n-1]\n",
    "li=[98,61,12,23,38,76]\n",
    "print(large(li))\n",
    "print(genericleastlarge(li,4))"
   ]
  },
  {
   "cell_type": "markdown",
   "metadata": {},
   "source": [
    "# file handling in python\n",
    "- file - document which contains some info and resides on permanent\n",
    "- different types of files-- txt,.pdf,.ppf and etc\n",
    "- input --keyword\n",
    "- output- filesystem\n"
   ]
  },
  {
   "cell_type": "code",
   "execution_count": 4,
   "metadata": {},
   "outputs": [
    {
     "name": "stdout",
     "output_type": "stream",
     "text": [
      "this file is successfully created\n"
     ]
    }
   ],
   "source": [
    "def createfile(filename):\n",
    "    f=open(filename,'w')\n",
    "    for i in range(6):\n",
    "        f.write('this is %d line \\n'%i)\n",
    "    print('this file is successfully created')                \n",
    "    return\n",
    "createfile('data.txt')"
   ]
  },
  {
   "cell_type": "code",
   "execution_count": 33,
   "metadata": {},
   "outputs": [
    {
     "data": {
      "text/plain": [
       "'C:\\\\Users\\\\hp\\\\PROBLEM SOLVING AND PROGRAMMING\\\\DAY 3'"
      ]
     },
     "execution_count": 33,
     "metadata": {},
     "output_type": "execute_result"
    }
   ],
   "source": [
    "pwd"
   ]
  },
  {
   "cell_type": "code",
   "execution_count": 5,
   "metadata": {},
   "outputs": [
    {
     "name": "stdout",
     "output_type": "stream",
     "text": [
      "this file is successfully created\n"
     ]
    }
   ],
   "source": [
    "def modefile(filename):\n",
    "    f=open(filename,'a')\n",
    "    f.write('PYTHON IS EASY \\n')\n",
    "    f.write('PYTHON IS LANGUAGE')\n",
    "    print('this file is successfully created')                \n",
    "    return\n",
    "modefile('data.txt')"
   ]
  },
  {
   "cell_type": "code",
   "execution_count": 7,
   "metadata": {},
   "outputs": [
    {
     "name": "stdout",
     "output_type": "stream",
     "text": [
      "this is 0 line \n",
      "this is 1 line \n",
      "this is 2 line \n",
      "this is 3 line \n",
      "this is 4 line \n",
      "this is 5 line \n",
      "PYTHON IS EASY \n",
      "PYTHON IS LANGUAGE\n"
     ]
    }
   ],
   "source": [
    "def readfile(filename):\n",
    "    f=open(filename,'r')\n",
    "    if f.mode=='r':\n",
    "        a=f.read()\n",
    "        print(a)\n",
    "    f.close()\n",
    "    return\n",
    "readfile('data.txt')"
   ]
  },
  {
   "cell_type": "code",
   "execution_count": 8,
   "metadata": {},
   "outputs": [
    {
     "name": "stdout",
     "output_type": "stream",
     "text": [
      "['shraddha', 'vasa']\n"
     ]
    }
   ],
   "source": [
    "s='shraddha vasa'\n",
    "print(s.split())"
   ]
  },
  {
   "cell_type": "code",
   "execution_count": 11,
   "metadata": {},
   "outputs": [
    {
     "data": {
      "text/plain": [
       "30"
      ]
     },
     "execution_count": 11,
     "metadata": {},
     "output_type": "execute_result"
    }
   ],
   "source": [
    "def wordCount(filename):\n",
    "    with open(filename,'r') as f:\n",
    "        if f.mode=='r':\n",
    "            a=f.read()\n",
    "            li = a.split()\n",
    "    return len(li)\n",
    "wordCount('data.txt')"
   ]
  },
  {
   "cell_type": "code",
   "execution_count": 15,
   "metadata": {},
   "outputs": [
    {
     "data": {
      "text/plain": [
       "6"
      ]
     },
     "execution_count": 15,
     "metadata": {},
     "output_type": "execute_result"
    }
   ],
   "source": [
    "def word2(filename,word):\n",
    "    with open(filename,'r') as f:\n",
    "        if f.mode=='r':\n",
    "            a=f.read()\n",
    "            li = a.split()\n",
    "    return li.count(word)\n",
    "word2('data.txt','this')"
   ]
  },
  {
   "cell_type": "code",
   "execution_count": 16,
   "metadata": {},
   "outputs": [
    {
     "data": {
      "text/plain": [
       "130"
      ]
     },
     "execution_count": 16,
     "metadata": {},
     "output_type": "execute_result"
    }
   ],
   "source": [
    "def char(filename):\n",
    "    with open(filename,'r') as f:\n",
    "        if f.mode=='r':\n",
    "            a=f.read()\n",
    "            li = list(a)\n",
    "    return len(li)\n",
    "char('data.txt')"
   ]
  },
  {
   "cell_type": "code",
   "execution_count": 18,
   "metadata": {},
   "outputs": [
    {
     "name": "stdout",
     "output_type": "stream",
     "text": [
      "['The', 'split()', 'method', 'splits', 'a', 'string', 'into', 'a', 'list']\n"
     ]
    }
   ],
   "source": [
    "s='The split() method splits a string into a list'\n",
    "x = s.split()\n",
    "print(x)"
   ]
  },
  {
   "cell_type": "code",
   "execution_count": 20,
   "metadata": {},
   "outputs": [
    {
     "data": {
      "text/plain": [
       "8"
      ]
     },
     "execution_count": 20,
     "metadata": {},
     "output_type": "execute_result"
    }
   ],
   "source": [
    "def findline(filename):\n",
    "    with open(filename,'r') as f:\n",
    "        if f.mode=='r':\n",
    "            a=f.read()\n",
    "            li = a.split('\\n')\n",
    "    return len(li)\n",
    "findline('data.txt')"
   ]
  },
  {
   "cell_type": "code",
   "execution_count": 27,
   "metadata": {},
   "outputs": [
    {
     "ename": "NameError",
     "evalue": "name 'cntUpper' is not defined",
     "output_type": "error",
     "traceback": [
      "\u001b[1;31m---------------------------------------------------------------------------\u001b[0m",
      "\u001b[1;31mNameError\u001b[0m                                 Traceback (most recent call last)",
      "\u001b[1;32m<ipython-input-27-c2fd7d029ed3>\u001b[0m in \u001b[0;36m<module>\u001b[1;34m\u001b[0m\n\u001b[0;32m     14\u001b[0m             \u001b[1;32melif\u001b[0m  \u001b[0mord\u001b[0m\u001b[1;33m(\u001b[0m\u001b[0mli\u001b[0m\u001b[1;33m[\u001b[0m\u001b[0mi\u001b[0m\u001b[1;33m]\u001b[0m\u001b[1;33m)\u001b[0m\u001b[1;33m>=\u001b[0m\u001b[1;36m48\u001b[0m \u001b[1;32mand\u001b[0m \u001b[0mord\u001b[0m\u001b[1;33m(\u001b[0m\u001b[0mli\u001b[0m\u001b[1;33m[\u001b[0m\u001b[0mi\u001b[0m\u001b[1;33m]\u001b[0m\u001b[1;33m)\u001b[0m\u001b[1;33m<=\u001b[0m\u001b[1;36m57\u001b[0m\u001b[1;33m:\u001b[0m\u001b[1;33m\u001b[0m\u001b[1;33m\u001b[0m\u001b[0m\n\u001b[0;32m     15\u001b[0m                 \u001b[0mcntDigit\u001b[0m\u001b[1;33m+=\u001b[0m\u001b[1;36m1\u001b[0m\u001b[1;33m\u001b[0m\u001b[1;33m\u001b[0m\u001b[0m\n\u001b[1;32m---> 16\u001b[1;33m \u001b[0moutput\u001b[0m \u001b[1;33m=\u001b[0m \u001b[1;34m'Uppercase: {0} Lowercase: {1} Digit: {2}'\u001b[0m \u001b[1;33m.\u001b[0m\u001b[0mformat\u001b[0m\u001b[1;33m(\u001b[0m\u001b[0mcntUpper\u001b[0m\u001b[1;33m,\u001b[0m\u001b[0mcntLower\u001b[0m\u001b[1;33m,\u001b[0m\u001b[0mcntDigit\u001b[0m\u001b[1;33m)\u001b[0m\u001b[1;33m\u001b[0m\u001b[1;33m\u001b[0m\u001b[0m\n\u001b[0m\u001b[0;32m     17\u001b[0m \u001b[1;32mreturn\u001b[0m \u001b[0moutput\u001b[0m\u001b[1;33m\u001b[0m\u001b[1;33m\u001b[0m\u001b[0m\n\u001b[0;32m     18\u001b[0m \u001b[0mcasecount\u001b[0m\u001b[1;33m(\u001b[0m\u001b[1;34m'data.txt'\u001b[0m\u001b[1;33m)\u001b[0m\u001b[1;33m\u001b[0m\u001b[1;33m\u001b[0m\u001b[0m\n",
      "\u001b[1;31mNameError\u001b[0m: name 'cntUpper' is not defined"
     ]
    }
   ],
   "source": [
    "def casecount(filename):\n",
    "    cntUpper=0\n",
    "    cntLower=0\n",
    "    cntDigit=0\n",
    "    with open(filename,'r') as f:\n",
    "        if f.mode=='r':\n",
    "            a=f.read()\n",
    "            li = list(a)\n",
    "        for i in range (len(s)):\n",
    "            if ord(li[i])>=67 and ord(li[i])<=87:\n",
    "                cntUpper+=1\n",
    "            elif ord(li[i])>=96 and ord(li[i])<=122: \n",
    "                cntLower+=1\n",
    "            elif  ord(li[i])>=48 and ord(li[i])<=57:\n",
    "                cntDigit+=1\n",
    "output = 'Uppercase: {0} Lowercase: {1} Digit: {2}' .format(cntUpper,cntLower,cntDigit)\n",
    "return output\n",
    "casecount('data.txt')"
   ]
  },
  {
   "cell_type": "code",
   "execution_count": null,
   "metadata": {},
   "outputs": [],
   "source": []
  }
 ],
 "metadata": {
  "kernelspec": {
   "display_name": "Python 3",
   "language": "python",
   "name": "python3"
  },
  "language_info": {
   "codemirror_mode": {
    "name": "ipython",
    "version": 3
   },
   "file_extension": ".py",
   "mimetype": "text/x-python",
   "name": "python",
   "nbconvert_exporter": "python",
   "pygments_lexer": "ipython3",
   "version": "3.7.3"
  }
 },
 "nbformat": 4,
 "nbformat_minor": 2
}
