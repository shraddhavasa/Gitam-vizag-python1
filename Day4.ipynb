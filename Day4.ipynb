{
 "cells": [
  {
   "cell_type": "code",
   "execution_count": 4,
   "metadata": {},
   "outputs": [
    {
     "name": "stdout",
     "output_type": "stream",
     "text": [
      "True\n",
      "False\n",
      "False\n",
      "True\n",
      "False\n",
      "True\n",
      "False\n",
      "False\n",
      "True\n"
     ]
    }
   ],
   "source": [
    "S='SHRADDHA'\n",
    "a='123456'\n",
    "b='python567'\n",
    "c='      '\n",
    "print(S.isupper())\n",
    "print(S.islower())\n",
    "print(S.istitle())\n",
    "print(a.isnumeric())\n",
    "print(b.isnumeric())\n",
    "print(S.isalpha())\n",
    "print(b.isalpha())\n",
    "print(S.isspace())\n",
    "print(c.isspace())"
   ]
  },
  {
   "cell_type": "code",
   "execution_count": 5,
   "metadata": {},
   "outputs": [
    {
     "name": "stdout",
     "output_type": "stream",
     "text": [
      "['python progr', 'mming le', 'rn m', 'de e', 'sy']\n"
     ]
    }
   ],
   "source": [
    "s='python programming learn made easy'\n",
    "li=s.split('a')\n",
    "print(li)"
   ]
  },
  {
   "cell_type": "code",
   "execution_count": 6,
   "metadata": {},
   "outputs": [
    {
     "name": "stdout",
     "output_type": "stream",
     "text": [
      "python-programming-learn-made-easy\n",
      "python progr@mming le@rn m@de e@sy\n"
     ]
    }
   ],
   "source": [
    "s='python programming learn made easy'\n",
    "print(s.replace(' ','-'))\n",
    "print(s.replace('a','@'))\n"
   ]
  },
  {
   "cell_type": "code",
   "execution_count": 7,
   "metadata": {},
   "outputs": [
    {
     "name": "stdout",
     "output_type": "stream",
     "text": [
      "ppython programming learn made easy \n",
      "ypython programming learn made easy \n",
      "tpython programming learn made easy \n",
      "hpython programming learn made easy \n",
      "opython programming learn made easy \n",
      "npython programming learn made easy \n",
      " python programming learn made easy \n",
      "ipython programming learn made easy \n",
      "spython programming learn made easy \n",
      " python programming learn made easy \n",
      "epython programming learn made easy \n",
      "apython programming learn made easy \n",
      "spython programming learn made easy \n",
      "y\n"
     ]
    }
   ],
   "source": [
    "s='python programming learn made easy \\n'\n",
    "p='python is easy'\n",
    "print(s.join(p))"
   ]
  },
  {
   "cell_type": "code",
   "execution_count": 8,
   "metadata": {},
   "outputs": [
    {
     "name": "stdout",
     "output_type": "stream",
     "text": [
      "shraddhavasa\n",
      "23 30 54 67\n"
     ]
    }
   ],
   "source": [
    "li=['shraddha','vasa']\n",
    "a=[23,30,54,67]\n",
    "print('%s%s'%(li[0],li[1]))\n",
    "print('%d %d %d %d'%(a[0],a[1],a[2],a[3]))"
   ]
  },
  {
   "cell_type": "code",
   "execution_count": 3,
   "metadata": {},
   "outputs": [
    {
     "name": "stdout",
     "output_type": "stream",
     "text": [
      "list item 0: shraddha list item 1: vasa\n"
     ]
    }
   ],
   "source": [
    "li=[\"shraddha\",\"vasa\"]\n",
    "print(\"list item 0: {0} list item 1: {1}\".format(li[0],li[1]))"
   ]
  },
  {
   "cell_type": "code",
   "execution_count": 10,
   "metadata": {},
   "outputs": [
    {
     "name": "stdout",
     "output_type": "stream",
     "text": [
      "23 54 89 12\n"
     ]
    }
   ],
   "source": [
    "li=[23,54,89,12]\n",
    "print(\"{0} {1} {2} {3}\".format(li[0],li[1],li[2],li[3]))"
   ]
  },
  {
   "cell_type": "code",
   "execution_count": 12,
   "metadata": {},
   "outputs": [
    {
     "name": "stdout",
     "output_type": "stream",
     "text": [
      "{'Name': 'Shraddha', 'Email': 'shraddhavasa@gmail.com', 'Address': 'Vizag'}\n"
     ]
    }
   ],
   "source": [
    "d={\"Name\":\"Shraddha\", \"Email\":\"shraddhavasa@gmail.com\",'Address':'Vizag'}\n",
    "print(d)"
   ]
  },
  {
   "cell_type": "code",
   "execution_count": 13,
   "metadata": {},
   "outputs": [
    {
     "data": {
      "text/plain": [
       "'shraddhavasa@gmail.com'"
      ]
     },
     "execution_count": 13,
     "metadata": {},
     "output_type": "execute_result"
    }
   ],
   "source": [
    "d['Email']"
   ]
  },
  {
   "cell_type": "code",
   "execution_count": 15,
   "metadata": {},
   "outputs": [
    {
     "name": "stdout",
     "output_type": "stream",
     "text": [
      "{'Name': 'Shraddha', 'Email': 'shraddhavasa22@gmail.com', 'Address': 'Vizag'}\n"
     ]
    }
   ],
   "source": [
    "d['Email']=\"shraddhavasa22@gmail.com\"\n",
    "print(d)"
   ]
  },
  {
   "cell_type": "code",
   "execution_count": 16,
   "metadata": {},
   "outputs": [
    {
     "data": {
      "text/plain": [
       "dict_keys(['Name', 'Email', 'Address'])"
      ]
     },
     "execution_count": 16,
     "metadata": {},
     "output_type": "execute_result"
    }
   ],
   "source": [
    "d.keys()"
   ]
  },
  {
   "cell_type": "code",
   "execution_count": 17,
   "metadata": {},
   "outputs": [
    {
     "data": {
      "text/plain": [
       "dict_values(['Shraddha', 'shraddhavasa22@gmail.com', 'Vizag'])"
      ]
     },
     "execution_count": 17,
     "metadata": {},
     "output_type": "execute_result"
    }
   ],
   "source": [
    "d.values()"
   ]
  },
  {
   "cell_type": "code",
   "execution_count": 23,
   "metadata": {},
   "outputs": [
    {
     "name": "stdout",
     "output_type": "stream",
     "text": [
      "contact details are add successfully\n",
      "None\n",
      "contact details are add successfully\n",
      "None\n",
      "name is already\n",
      "None\n"
     ]
    }
   ],
   "source": [
    "contact={}\n",
    "def contacts(name,phone):\n",
    "    if name not in contact:\n",
    "        contact[name]=phone\n",
    "        print('contact details are add successfully')\n",
    "    else:\n",
    "        print('name is already')\n",
    "    return\n",
    "print(contacts('shraddha','123456789'))\n",
    "print(contacts('usha','456789123'))\n",
    "print(contacts('shraddha','123456789'))"
   ]
  },
  {
   "cell_type": "code",
   "execution_count": 30,
   "metadata": {},
   "outputs": [
    {
     "name": "stdout",
     "output_type": "stream",
     "text": [
      "shraddha  : 123456789\n",
      "usha  : 456789123\n",
      "loshi is not present\n"
     ]
    }
   ],
   "source": [
    "def contacts1(name):\n",
    "    if name in contact:\n",
    "        print(name,' :',contact[name])\n",
    "    else:\n",
    "        print('%s is not present'%name)\n",
    "    return\n",
    "contacts1('shraddha')\n",
    "contacts1('usha')\n",
    "contacts1('loshi')"
   ]
  },
  {
   "cell_type": "code",
   "execution_count": 32,
   "metadata": {},
   "outputs": [
    {
     "name": "stdout",
     "output_type": "stream",
     "text": [
      "3 Contact are added\n"
     ]
    }
   ],
   "source": [
    "def importcontact(new):\n",
    "    contact.update(new)\n",
    "    print(len(new.keys()),'Contact are added')\n",
    "    return\n",
    "new={'Vijaya':123456789,'pavani':987654123,'Kris':123654789}\n",
    "importcontact(new)"
   ]
  },
  {
   "cell_type": "code",
   "execution_count": 36,
   "metadata": {},
   "outputs": [
    {
     "data": {
      "text/plain": [
       "{'shraddha': 123456789,\n",
       " 'usha': 987654123,\n",
       " 'loshi': 123654789,\n",
       " 'Vijaya': 123456789,\n",
       " 'pavani': 987654123,\n",
       " 'Kris': 123654789}"
      ]
     },
     "execution_count": 36,
     "metadata": {},
     "output_type": "execute_result"
    }
   ],
   "source": [
    "contact"
   ]
  },
  {
   "cell_type": "code",
   "execution_count": 46,
   "metadata": {},
   "outputs": [
    {
     "name": "stdout",
     "output_type": "stream",
     "text": [
      "Yeshwanth Update successfully\n",
      "pavani Update successfully\n"
     ]
    }
   ],
   "source": [
    "def modify(name,phone):\n",
    "    if name in contact:\n",
    "        contact[name]=phone\n",
    "        print(name,'Update successfully')\n",
    "    else:\n",
    "        print(name,'not exist')\n",
    "    return\n",
    "modify('Yeshwanth',893212367)\n",
    "modify('pavani',234567981)"
   ]
  },
  {
   "cell_type": "code",
   "execution_count": 47,
   "metadata": {},
   "outputs": [
    {
     "data": {
      "text/plain": [
       "{'shraddha': 123456789,\n",
       " 'usha': 987654123,\n",
       " 'loshi': 123654789,\n",
       " 'Vijaya': 123456789,\n",
       " 'pavani': 234567981,\n",
       " 'Kris': 123654789,\n",
       " 'kris': 123654789,\n",
       " 'siva': 234567981,\n",
       " 'Yeshwanth': 893212367}"
      ]
     },
     "execution_count": 47,
     "metadata": {},
     "output_type": "execute_result"
    }
   ],
   "source": [
    "contact"
   ]
  },
  {
   "cell_type": "code",
   "execution_count": 48,
   "metadata": {},
   "outputs": [
    {
     "name": "stdout",
     "output_type": "stream",
     "text": [
      "Kris delete successfully\n",
      "Yeshwanth delete successfully\n"
     ]
    }
   ],
   "source": [
    "def delete(name):\n",
    "    if name in contact:\n",
    "        del contact[name]\n",
    "        print(name,'delete successfully')\n",
    "    else:\n",
    "        print(name,'not exist')\n",
    "    return\n",
    "delete('Kris')\n",
    "delete('Yeshwanth')"
   ]
  },
  {
   "cell_type": "code",
   "execution_count": 49,
   "metadata": {},
   "outputs": [
    {
     "data": {
      "text/plain": [
       "{'shraddha': 123456789,\n",
       " 'usha': 987654123,\n",
       " 'loshi': 123654789,\n",
       " 'Vijaya': 123456789,\n",
       " 'pavani': 234567981,\n",
       " 'kris': 123654789,\n",
       " 'siva': 234567981}"
      ]
     },
     "execution_count": 49,
     "metadata": {},
     "output_type": "execute_result"
    }
   ],
   "source": [
    "contact"
   ]
  },
  {
   "cell_type": "code",
   "execution_count": 50,
   "metadata": {},
   "outputs": [
    {
     "name": "stdout",
     "output_type": "stream",
     "text": [
      "Kris not exist\n",
      "Yeshwanth not exist\n"
     ]
    }
   ],
   "source": [
    "def delete(name):\n",
    "    if name in contact:\n",
    "        del contact[name]\n",
    "        print(name,'delete successfully')\n",
    "    else:\n",
    "        print(name,'not exist')\n",
    "    return\n",
    "delete('Kris')\n",
    "delete('Yeshwanth')"
   ]
  },
  {
   "cell_type": "code",
   "execution_count": 52,
   "metadata": {},
   "outputs": [
    {
     "name": "stdout",
     "output_type": "stream",
     "text": [
      "[56, 21, 42, 99]\n",
      "[21, 56]\n"
     ]
    }
   ],
   "source": [
    "t=[56,21,42,99]\n",
    "print(t)\n",
    "print(t[1::-1])"
   ]
  },
  {
   "cell_type": "code",
   "execution_count": 58,
   "metadata": {},
   "outputs": [
    {
     "name": "stdout",
     "output_type": "stream",
     "text": [
      "13\n",
      "True\n"
     ]
    }
   ],
   "source": [
    "import re\n",
    "def twodigits(n):\n",
    "    p='^[0-9]{2}$'\n",
    "    n=str(n)\n",
    "    if re.match(p,n):\n",
    "        return True\n",
    "    return False\n",
    "n=int(input())\n",
    "print(twodigits(n))  "
   ]
  },
  {
   "cell_type": "code",
   "execution_count": 6,
   "metadata": {},
   "outputs": [
    {
     "name": "stdout",
     "output_type": "stream",
     "text": [
      "True\n",
      "False\n",
      "True\n"
     ]
    }
   ],
   "source": [
    "import re\n",
    "def username(s):\n",
    "    p='^[a-zA-z]{6,76}$'\n",
    "    if re.match(p,s):\n",
    "        return True\n",
    "    return False\n",
    "print(username('SHRADDHA'))\n",
    "print(username('re'))\n",
    "print(username('GITAMvizag'))"
   ]
  },
  {
   "cell_type": "code",
   "execution_count": 8,
   "metadata": {},
   "outputs": [
    {
     "name": "stdout",
     "output_type": "stream",
     "text": [
      "6302883803\n",
      "True\n"
     ]
    }
   ],
   "source": [
    "import re\n",
    "def validate(n):\n",
    "    p='^[6-9][0-9]{9}$|^[0][6-9][0-9]{9}$|^[+][9][1][6-9][0-9]{9}$'\n",
    "    n=str(n)\n",
    "    if re.match(p,n):\n",
    "        return True\n",
    "    return False\n",
    "n=input()\n",
    "print(validate(n))"
   ]
  },
  {
   "cell_type": "code",
   "execution_count": 1,
   "metadata": {},
   "outputs": [
    {
     "data": {
      "text/plain": [
       "True"
      ]
     },
     "execution_count": 1,
     "metadata": {},
     "output_type": "execute_result"
    }
   ],
   "source": [
    "import re\n",
    "def validemail(s):\n",
    "    p='^[0-9a-zA-Z][0-9a-zA-Z_.]{5,14}[@][a-z0-9]{3,18}[.][a-z]{2,4}$'\n",
    "    if re.match(p,s):\n",
    "        return True\n",
    "    return False\n",
    "validemail('shraddhavasa@gmail.com')"
   ]
  },
  {
   "cell_type": "code",
   "execution_count": 6,
   "metadata": {},
   "outputs": [
    {
     "data": {
      "text/plain": [
       "145"
      ]
     },
     "execution_count": 6,
     "metadata": {},
     "output_type": "execute_result"
    }
   ],
   "source": [
    "import math\n",
    "math.floor(145.799)\n"
   ]
  },
  {
   "cell_type": "code",
   "execution_count": 5,
   "metadata": {},
   "outputs": [
    {
     "data": {
      "text/plain": [
       "135"
      ]
     },
     "execution_count": 5,
     "metadata": {},
     "output_type": "execute_result"
    }
   ],
   "source": [
    "import math\n",
    "math.ceil(134.987)"
   ]
  },
  {
   "cell_type": "code",
   "execution_count": 7,
   "metadata": {},
   "outputs": [
    {
     "data": {
      "text/plain": [
       "5"
      ]
     },
     "execution_count": 7,
     "metadata": {},
     "output_type": "execute_result"
    }
   ],
   "source": [
    "from math import gcd as gcd\n",
    "gcd(10,25)"
   ]
  },
  {
   "cell_type": "code",
   "execution_count": 8,
   "metadata": {},
   "outputs": [
    {
     "name": "stdout",
     "output_type": "stream",
     "text": [
      "10\n",
      "0\n",
      "100\n",
      "83 29 0 6 57 62 29 36 79 92 None\n"
     ]
    }
   ],
   "source": [
    "import random\n",
    "def randomno(n,lb,ub):\n",
    "    for i in range (0,n):\n",
    "        print(random.randint(lb,ub),end=' ')\n",
    "    return\n",
    "n=int(input())\n",
    "lb=int(input())\n",
    "ub=int(input())\n",
    "print(randomno(n,lb,ub))"
   ]
  },
  {
   "cell_type": "code",
   "execution_count": 17,
   "metadata": {
    "scrolled": true
   },
   "outputs": [
    {
     "name": "stdout",
     "output_type": "stream",
     "text": [
      "20\n",
      "200\n",
      "999\n",
      "613 382 240 454 345 902 714 553 589 558 536 314 819 296 351 634 941 875 492 448 None\n",
      "congrats!!!!!\n"
     ]
    }
   ],
   "source": [
    "from random import randint as rdint\n",
    "def generateno(n,lb,ub):\n",
    "    li=[]\n",
    "    for i in range(0,n):\n",
    "        li.append(rdint(lb,ub))\n",
    "    return li\n",
    "n=int(input())\n",
    "lb=int(input())\n",
    "ub=int(input())\n",
    "print(randomno(n,lb,ub))\n",
    "def check(n):\n",
    "    li=generateno(n,lb,ub)\n",
    "    if n in li:\n",
    "        print('congrats!!!!!')\n",
    "    else:\n",
    "        print('try again!!!!!')\n",
    "    return\n",
    "check(917)"
   ]
  },
  {
   "cell_type": "code",
   "execution_count": 20,
   "metadata": {},
   "outputs": [],
   "source": [
    "import turtle\n",
    "a=turtle.Turtle()\n",
    "a.goto(-100,0)\n",
    "a.forward(250)\n",
    "turtle.done()"
   ]
  },
  {
   "cell_type": "code",
   "execution_count": null,
   "metadata": {},
   "outputs": [],
   "source": [
    "import turtle as tt\n",
    "a=tt.Turtle()\n",
    "a.forward(150)\n",
    "a.right(90)\n",
    "a.forward(150)\n",
    "a.right(90)\n",
    "a.forward(150)\n",
    "a.right(90)\n",
    "a.forward(150)\n",
    "a.right(90)\n",
    "tt.done()"
   ]
  },
  {
   "cell_type": "code",
   "execution_count": null,
   "metadata": {},
   "outputs": [],
   "source": []
  }
 ],
 "metadata": {
  "kernelspec": {
   "display_name": "Python 3",
   "language": "python",
   "name": "python3"
  },
  "language_info": {
   "codemirror_mode": {
    "name": "ipython",
    "version": 3
   },
   "file_extension": ".py",
   "mimetype": "text/x-python",
   "name": "python",
   "nbconvert_exporter": "python",
   "pygments_lexer": "ipython3",
   "version": "3.7.3"
  }
 },
 "nbformat": 4,
 "nbformat_minor": 2
}
